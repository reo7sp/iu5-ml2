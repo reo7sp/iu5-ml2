{
 "cells": [
  {
   "cell_type": "markdown",
   "metadata": {},
   "source": [
    "Морозенков О.Н. ИУ5-23М. РК2"
   ]
  },
  {
   "cell_type": "code",
   "execution_count": 2,
   "metadata": {
    "id": "-c2XPKKOq7Wu"
   },
   "outputs": [],
   "source": [
    "import numpy as np\n",
    "import pandas as pd\n",
    "from typing import Dict, Tuple\n",
    "from sklearn.feature_extraction.text import CountVectorizer, TfidfVectorizer\n",
    "from sklearn.model_selection import GridSearchCV, RandomizedSearchCV\n",
    "from sklearn.metrics import accuracy_score, balanced_accuracy_score\n",
    "from sklearn.metrics import precision_score, recall_score, f1_score, classification_report\n",
    "from sklearn.metrics import confusion_matrix\n",
    "from sklearn.model_selection import cross_val_score\n",
    "from sklearn.pipeline import Pipeline\n",
    "from sklearn.metrics import mean_absolute_error, mean_squared_error, mean_squared_log_error, median_absolute_error, r2_score \n",
    "from sklearn.metrics import roc_curve, roc_auc_score\n",
    "from sklearn.naive_bayes import MultinomialNB\n",
    "from sklearn.linear_model import LogisticRegression\n",
    "from sklearn.neighbors import KNeighborsClassifier\n",
    "from sklearn.svm import LinearSVC\n",
    "from sklearn.model_selection import train_test_split\n",
    "import seaborn as sns\n",
    "from collections import Counter\n",
    "from sklearn.datasets import fetch_20newsgroups\n",
    "import matplotlib.pyplot as plt\n",
    "\n",
    "%matplotlib inline \n",
    "sns.set(style=\"ticks\")"
   ]
  },
  {
   "cell_type": "markdown",
   "metadata": {
    "id": "bAzmgaJ_80sH"
   },
   "source": [
    "#Векторизация текста на основе модели \"мешка слов\""
   ]
  },
  {
   "cell_type": "code",
   "execution_count": 3,
   "metadata": {
    "id": "VLoXLDqzq4Ku"
   },
   "outputs": [],
   "source": [
    "categories = [\"rec.sport.hockey\", \"rec.sport.baseball\", \"sci.crypt\",\"sci.space\"]\n",
    "newsgroups = fetch_20newsgroups(subset='train', categories=categories)\n",
    "data = newsgroups['data']"
   ]
  },
  {
   "cell_type": "code",
   "execution_count": 4,
   "metadata": {
    "id": "42Wh-CynrkGj"
   },
   "outputs": [],
   "source": [
    "def accuracy_score_for_classes(\n",
    "    y_true: np.ndarray, \n",
    "    y_pred: np.ndarray) -> Dict[int, float]:\n",
    "    \"\"\"\n",
    "    Вычисление метрики accuracy для каждого класса\n",
    "    y_true - истинные значения классов\n",
    "    y_pred - предсказанные значения классов\n",
    "    Возвращает словарь: ключ - метка класса, \n",
    "    значение - Accuracy для данного класса\n",
    "    \"\"\"\n",
    "    # Для удобства фильтрации сформируем Pandas DataFrame \n",
    "    d = {'t': y_true, 'p': y_pred}\n",
    "    df = pd.DataFrame(data=d)\n",
    "    # Метки классов\n",
    "    classes = np.unique(y_true)\n",
    "    # Результирующий словарь\n",
    "    res = dict()\n",
    "    # Перебор меток классов\n",
    "    for c in classes:\n",
    "        # отфильтруем данные, которые соответствуют \n",
    "        # текущей метке класса в истинных значениях\n",
    "        temp_data_flt = df[df['t']==c]\n",
    "        # расчет accuracy для заданной метки класса\n",
    "        temp_acc = accuracy_score(\n",
    "            temp_data_flt['t'].values, \n",
    "            temp_data_flt['p'].values)\n",
    "        # сохранение результата в словарь\n",
    "        res[c] = temp_acc\n",
    "    return res\n",
    "\n",
    "def print_accuracy_score_for_classes(\n",
    "    y_true: np.ndarray, \n",
    "    y_pred: np.ndarray):\n",
    "    \"\"\"\n",
    "    Вывод метрики accuracy для каждого класса\n",
    "    \"\"\"\n",
    "    accs = accuracy_score_for_classes(y_true, y_pred)\n",
    "    if len(accs)>0:\n",
    "        print('Метка \\t Accuracy')\n",
    "    for i in accs:\n",
    "        print('{} \\t {}'.format(i, accs[i]))"
   ]
  },
  {
   "cell_type": "code",
   "execution_count": 5,
   "metadata": {
    "colab": {
     "base_uri": "https://localhost:8080/"
    },
    "id": "esrSY6qXrleU",
    "outputId": "2c18f7b7-2900-4f08-9774-a1205ce3553e"
   },
   "outputs": [
    {
     "name": "stdout",
     "output_type": "stream",
     "text": [
      "Количество сформированных признаков - 36053\n"
     ]
    }
   ],
   "source": [
    "vocabVect = CountVectorizer()\n",
    "vocabVect.fit(data)\n",
    "corpusVocab = vocabVect.vocabulary_\n",
    "print('Количество сформированных признаков - {}'.format(len(corpusVocab)))"
   ]
  },
  {
   "cell_type": "code",
   "execution_count": 6,
   "metadata": {
    "colab": {
     "base_uri": "https://localhost:8080/"
    },
    "id": "6UA7wvzZsJxl",
    "outputId": "2834a405-4f73-495a-9fbc-2f861e6a9b1c"
   },
   "outputs": [
    {
     "name": "stdout",
     "output_type": "stream",
     "text": [
      "eastgate=13606\n",
      "world=35502\n",
      "std=31184\n",
      "com=10437\n",
      "mark=21937\n",
      "bernstein=7838\n",
      "subject=31563\n",
      "re=27488\n",
      "jewish=19518\n",
      "baseball=7514\n",
      "players=26024\n",
      "organization=24729\n",
      "the=32523\n",
      "public=26947\n"
     ]
    }
   ],
   "source": [
    "for i in list(corpusVocab)[1:15]:\n",
    "    print('{}={}'.format(i, corpusVocab[i]))"
   ]
  },
  {
   "cell_type": "code",
   "execution_count": 8,
   "metadata": {
    "id": "EOcZ0afBs98g"
   },
   "outputs": [
    {
     "data": {
      "text/plain": [
       "<2385x36053 sparse matrix of type '<class 'numpy.int64'>'\n",
       "\twith 390795 stored elements in Compressed Sparse Row format>"
      ]
     },
     "execution_count": 8,
     "metadata": {},
     "output_type": "execute_result"
    }
   ],
   "source": [
    "test_features = vocabVect.transform(data)\n",
    "test_features"
   ]
  },
  {
   "cell_type": "code",
   "execution_count": 9,
   "metadata": {
    "colab": {
     "base_uri": "https://localhost:8080/"
    },
    "id": "olYUOhsstEZ1",
    "outputId": "d5da9572-c1ff-44ae-e3c9-0e55e72079cd"
   },
   "outputs": [
    {
     "data": {
      "text/plain": [
       "matrix([[0, 0, 0, ..., 0, 0, 0],\n",
       "        [2, 0, 0, ..., 0, 0, 0],\n",
       "        [0, 0, 0, ..., 0, 0, 0],\n",
       "        ...,\n",
       "        [0, 0, 0, ..., 0, 0, 0],\n",
       "        [0, 0, 0, ..., 0, 0, 0],\n",
       "        [0, 0, 0, ..., 0, 0, 0]], dtype=int64)"
      ]
     },
     "execution_count": 9,
     "metadata": {},
     "output_type": "execute_result"
    }
   ],
   "source": [
    "test_features.todense()"
   ]
  },
  {
   "cell_type": "code",
   "execution_count": null,
   "metadata": {
    "colab": {
     "base_uri": "https://localhost:8080/"
    },
    "id": "c-56OfvNtH9r",
    "outputId": "e630591c-5939-487d-cc50-ab599877233d"
   },
   "outputs": [],
   "source": [
    "# Размер нулевой строки\n",
    "len(test_features.todense()[0].getA1())"
   ]
  },
  {
   "cell_type": "code",
   "execution_count": 11,
   "metadata": {
    "colab": {
     "base_uri": "https://localhost:8080/"
    },
    "id": "CZMU_R7GtS6d",
    "outputId": "be131d23-fd62-4c6f-f394-73eba47ed5c5"
   },
   "outputs": [
    {
     "data": {
      "text/plain": [
       "['00',\n",
       " '000',\n",
       " '0000',\n",
       " '00000',\n",
       " '000000',\n",
       " '00000000',\n",
       " '00000000b',\n",
       " '00000001',\n",
       " '00000001b',\n",
       " '00000010',\n",
       " '00000010b',\n",
       " '00000011',\n",
       " '00000011b',\n",
       " '00000100',\n",
       " '00000100b',\n",
       " '00000101',\n",
       " '00000101b',\n",
       " '00000110',\n",
       " '00000110b',\n",
       " '00000111',\n",
       " '00000111b',\n",
       " '00001000',\n",
       " '00001000b',\n",
       " '00001001',\n",
       " '00001001b',\n",
       " '00001010',\n",
       " '00001010b',\n",
       " '00001011',\n",
       " '00001011b',\n",
       " '00001100']"
      ]
     },
     "execution_count": 11,
     "metadata": {},
     "output_type": "execute_result"
    }
   ],
   "source": [
    "vocabVect.get_feature_names()[0:30]"
   ]
  },
  {
   "cell_type": "code",
   "execution_count": 12,
   "metadata": {
    "id": "VV9Gdq0At4yY"
   },
   "outputs": [],
   "source": [
    "def VectorizeAndClassify(vectorizers_list, classifiers_list):\n",
    "    for v in vectorizers_list:\n",
    "        for c in classifiers_list:\n",
    "            pipeline1 = Pipeline([(\"vectorizer\", v), (\"classifier\", c)])\n",
    "            score = cross_val_score(pipeline1, newsgroups['data'], newsgroups['target'], scoring='accuracy', cv=3).mean()\n",
    "            print('Векторизация - {}'.format(v))\n",
    "            print('Модель для классификации - {}'.format(c))\n",
    "            print('Accuracy = {}'.format(score))\n",
    "            print('===========================')"
   ]
  },
  {
   "cell_type": "code",
   "execution_count": 19,
   "metadata": {
    "colab": {
     "base_uri": "https://localhost:8080/"
    },
    "id": "AdDlkVmyt9uu",
    "outputId": "c9be2ed5-4273-4f68-db02-c1309678fe4d"
   },
   "outputs": [
    {
     "name": "stderr",
     "output_type": "stream",
     "text": [
      "D:\\ml\\lib\\site-packages\\sklearn\\linear_model\\_logistic.py:763: ConvergenceWarning: lbfgs failed to converge (status=1):\n",
      "STOP: TOTAL NO. of ITERATIONS REACHED LIMIT.\n",
      "\n",
      "Increase the number of iterations (max_iter) or scale the data as shown in:\n",
      "    https://scikit-learn.org/stable/modules/preprocessing.html\n",
      "Please also refer to the documentation for alternative solver options:\n",
      "    https://scikit-learn.org/stable/modules/linear_model.html#logistic-regression\n",
      "  n_iter_i = _check_optimize_result(\n",
      "D:\\ml\\lib\\site-packages\\sklearn\\linear_model\\_logistic.py:763: ConvergenceWarning: lbfgs failed to converge (status=1):\n",
      "STOP: TOTAL NO. of ITERATIONS REACHED LIMIT.\n",
      "\n",
      "Increase the number of iterations (max_iter) or scale the data as shown in:\n",
      "    https://scikit-learn.org/stable/modules/preprocessing.html\n",
      "Please also refer to the documentation for alternative solver options:\n",
      "    https://scikit-learn.org/stable/modules/linear_model.html#logistic-regression\n",
      "  n_iter_i = _check_optimize_result(\n",
      "D:\\ml\\lib\\site-packages\\sklearn\\linear_model\\_logistic.py:763: ConvergenceWarning: lbfgs failed to converge (status=1):\n",
      "STOP: TOTAL NO. of ITERATIONS REACHED LIMIT.\n",
      "\n",
      "Increase the number of iterations (max_iter) or scale the data as shown in:\n",
      "    https://scikit-learn.org/stable/modules/preprocessing.html\n",
      "Please also refer to the documentation for alternative solver options:\n",
      "    https://scikit-learn.org/stable/modules/linear_model.html#logistic-regression\n",
      "  n_iter_i = _check_optimize_result(\n"
     ]
    },
    {
     "name": "stdout",
     "output_type": "stream",
     "text": [
      "Векторизация - CountVectorizer(vocabulary={'00': 0, '000': 1, '0000': 2, '00000': 3,\n",
      "                            '000000': 4, '00000000': 5, '00000000b': 6,\n",
      "                            '00000001': 7, '00000001b': 8, '00000010': 9,\n",
      "                            '00000010b': 10, '00000011': 11, '00000011b': 12,\n",
      "                            '00000100': 13, '00000100b': 14, '00000101': 15,\n",
      "                            '00000101b': 16, '00000110': 17, '00000110b': 18,\n",
      "                            '00000111': 19, '00000111b': 20, '00001000': 21,\n",
      "                            '00001000b': 22, '00001001': 23, '00001001b': 24,\n",
      "                            '00001010': 25, '00001010b': 26, '00001011': 27,\n",
      "                            '00001011b': 28, '00001100': 29, ...})\n",
      "Модель для классификации - LogisticRegression(C=3.0)\n",
      "Accuracy = 0.9639412997903564\n",
      "===========================\n",
      "Векторизация - CountVectorizer(vocabulary={'00': 0, '000': 1, '0000': 2, '00000': 3,\n",
      "                            '000000': 4, '00000000': 5, '00000000b': 6,\n",
      "                            '00000001': 7, '00000001b': 8, '00000010': 9,\n",
      "                            '00000010b': 10, '00000011': 11, '00000011b': 12,\n",
      "                            '00000100': 13, '00000100b': 14, '00000101': 15,\n",
      "                            '00000101b': 16, '00000110': 17, '00000110b': 18,\n",
      "                            '00000111': 19, '00000111b': 20, '00001000': 21,\n",
      "                            '00001000b': 22, '00001001': 23, '00001001b': 24,\n",
      "                            '00001010': 25, '00001010b': 26, '00001011': 27,\n",
      "                            '00001011b': 28, '00001100': 29, ...})\n",
      "Модель для классификации - MultinomialNB(alpha=0.3)\n",
      "Accuracy = 0.9815513626834381\n",
      "===========================\n",
      "Векторизация - TfidfVectorizer(vocabulary={'00': 0, '000': 1, '0000': 2, '00000': 3,\n",
      "                            '000000': 4, '00000000': 5, '00000000b': 6,\n",
      "                            '00000001': 7, '00000001b': 8, '00000010': 9,\n",
      "                            '00000010b': 10, '00000011': 11, '00000011b': 12,\n",
      "                            '00000100': 13, '00000100b': 14, '00000101': 15,\n",
      "                            '00000101b': 16, '00000110': 17, '00000110b': 18,\n",
      "                            '00000111': 19, '00000111b': 20, '00001000': 21,\n",
      "                            '00001000b': 22, '00001001': 23, '00001001b': 24,\n",
      "                            '00001010': 25, '00001010b': 26, '00001011': 27,\n",
      "                            '00001011b': 28, '00001100': 29, ...})\n",
      "Модель для классификации - LogisticRegression(C=3.0)\n",
      "Accuracy = 0.9786163522012578\n",
      "===========================\n",
      "Векторизация - TfidfVectorizer(vocabulary={'00': 0, '000': 1, '0000': 2, '00000': 3,\n",
      "                            '000000': 4, '00000000': 5, '00000000b': 6,\n",
      "                            '00000001': 7, '00000001b': 8, '00000010': 9,\n",
      "                            '00000010b': 10, '00000011': 11, '00000011b': 12,\n",
      "                            '00000100': 13, '00000100b': 14, '00000101': 15,\n",
      "                            '00000101b': 16, '00000110': 17, '00000110b': 18,\n",
      "                            '00000111': 19, '00000111b': 20, '00001000': 21,\n",
      "                            '00001000b': 22, '00001001': 23, '00001001b': 24,\n",
      "                            '00001010': 25, '00001010b': 26, '00001011': 27,\n",
      "                            '00001011b': 28, '00001100': 29, ...})\n",
      "Модель для классификации - MultinomialNB(alpha=0.3)\n",
      "Accuracy = 0.979874213836478\n",
      "===========================\n"
     ]
    }
   ],
   "source": [
    "vectorizers_list = [CountVectorizer(vocabulary = corpusVocab),TfidfVectorizer(vocabulary = corpusVocab)]\n",
    "classifiers_list = [LogisticRegression(C=3.0), MultinomialNB(alpha=0.3)]\n",
    "VectorizeAndClassify(vectorizers_list, classifiers_list)"
   ]
  },
  {
   "cell_type": "markdown",
   "metadata": {},
   "source": [
    "С учетом того, что при параметрах по умолчанию у нас были крайне высокие результаты(примерно 0.95), то было принято решение о тестировании с разными гипе-параметрами.\n",
    "\n",
    "В результате при снижении alpha для MultinomialNB был получен лучший результат 0.982(Векторизация - CountVectorizer)"
   ]
  }
 ],
 "metadata": {
  "colab": {
   "collapsed_sections": [],
   "name": "Untitled12.ipynb",
   "provenance": []
  },
  "kernelspec": {
   "display_name": "Python 3 (ipykernel)",
   "language": "python",
   "name": "python3"
  },
  "language_info": {
   "codemirror_mode": {
    "name": "ipython",
    "version": 3
   },
   "file_extension": ".py",
   "mimetype": "text/x-python",
   "name": "python",
   "nbconvert_exporter": "python",
   "pygments_lexer": "ipython3",
   "version": "3.10.4"
  }
 },
 "nbformat": 4,
 "nbformat_minor": 1
}
